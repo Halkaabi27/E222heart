{
  "nbformat": 4,
  "nbformat_minor": 0,
  "metadata": {
    "colab": {
      "name": "ML_Application_re-edited_(Alkaabi).ipynb",
      "provenance": [],
      "collapsed_sections": [],
      "toc_visible": true
    },
    "kernelspec": {
      "name": "python3",
      "display_name": "Python 3"
    }
  },
  "cells": [
    {
      "cell_type": "code",
      "metadata": {
        "colab": {
          "resources": {
            "http://localhost:8080/nbextensions/google.colab/files.js": {
              "data": "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",
              "ok": true,
              "headers": [
                [
                  "content-type",
                  "application/javascript"
                ]
              ],
              "status": 200,
              "status_text": ""
            }
          },
          "base_uri": "https://localhost:8080/",
          "height": 72
        },
        "id": "OR_dLieUzGQx",
        "outputId": "a5c0a531-dfe1-42ac-d76b-e70670d99480"
      },
      "source": [
        "from google.colab import files\n",
        "uploaded = files.upload()"
      ],
      "execution_count": 1,
      "outputs": [
        {
          "output_type": "display_data",
          "data": {
            "text/html": [
              "\n",
              "     <input type=\"file\" id=\"files-3ec08ef7-0003-4c6a-a0c5-b936bae6896c\" name=\"files[]\" multiple disabled\n",
              "        style=\"border:none\" />\n",
              "     <output id=\"result-3ec08ef7-0003-4c6a-a0c5-b936bae6896c\">\n",
              "      Upload widget is only available when the cell has been executed in the\n",
              "      current browser session. Please rerun this cell to enable.\n",
              "      </output>\n",
              "      <script src=\"/nbextensions/google.colab/files.js\"></script> "
            ],
            "text/plain": [
              "<IPython.core.display.HTML object>"
            ]
          },
          "metadata": {
            "tags": []
          }
        },
        {
          "output_type": "stream",
          "text": [
            "Saving heart_failure_clinical_records_dataset.csv to heart_failure_clinical_records_dataset.csv\n"
          ],
          "name": "stdout"
        }
      ]
    },
    {
      "cell_type": "markdown",
      "metadata": {
        "id": "kR0zB-HL74yZ"
      },
      "source": [
        "###Importing dataset (Do not Touch code above)\n",
        "We are going to use Predicting Heart Failures dataset for this project (citation is at the end of this jupiter notebook)."
      ]
    },
    {
      "cell_type": "markdown",
      "metadata": {
        "id": "u0KsQouS_bRh"
      },
      "source": [
        "###Purpose of Project\n",
        "We want to create a model where we can predict if a person will have a heart failure or not. This model will hopefully be used for medical institutions for helping in research for heart failures and finding the main causes for heart failures.\n",
        "There are 13 columns in the dataset and 12 of them are the features which are:\n",
        "Age, anaemia, creatinine_phosphokinase, diabetes, ejection_fraction, high_blood_pressure, platelets, serum_creatinine, serum_sodium, sex, smoking and time.\n",
        "The label that we want to predict is Molarity and we want to check if the patient will have a heart failure or not through our model.\n",
        "#Something important to mention\n",
        "The \"time\" feature doesn't affect if the patient will have a heart failure or not, as it only states what is the patient's remaining time till their heart fail on them (if they have it in the first place) and it will be not used in the model. It could be considered as a label if we want to predict when the patient will have a heart failure or not. However, that is not the main goal of this project which is predicting molarity of patients.\n",
        "###What will be used\n",
        "We will try create multiple learning algorithms like Support Vector Classifier (SVC), Decision Tree (DT), Support Vector Machine (Linear) and Logistic Regression. Then we decide which one is considered the best for this dataset."
      ]
    },
    {
      "cell_type": "code",
      "metadata": {
        "id": "prmyqfAh8tUk"
      },
      "source": [
        "import io;\n",
        "import pandas as pd;\n",
        "import numpy as np; import matplotlib.pylab as plt\n",
        "from sklearn.model_selection import train_test_split\n",
        "\n",
        "d = []; \n",
        "\n",
        "with open( \"heart_failure_clinical_records_dataset.csv\", \"r\" ) as source:\n",
        "    for line in source:\n",
        "        line = line.replace( ',', '\\t'); # get rid of semi-colons\n",
        "        line = line.replace( '\\n' , '' );  # get rid of newline characters\n",
        "        fields = line.split( '\\t' ); # split based on tab characters\n",
        "        d.append(fields);\n",
        "\n",
        "N = len( d )-1; \n",
        "n = len( d[0] ) -2; \n",
        "data = np.zeros( (N,n) )\n",
        "label = np.zeros( (N,1) )\n",
        "\n",
        "for y in range(0,N): #features data minus \"time\" feature/label data\n",
        "  for i in range(0,n):\n",
        "    data[y,i] = d[y+1][i]; \n",
        "\n",
        "for x in range(0,N): #Label data (Molarity)\n",
        "  label[x,0] = d[x+1][12]\n",
        "\n",
        "\n",
        "feature_names = d[0][0:11]; #grab the names of features from 0 to 10\n",
        "labels = [\"Alive\",\"Dead\"]\n"
      ],
      "execution_count": null,
      "outputs": []
    },
    {
      "cell_type": "markdown",
      "metadata": {
        "id": "qur25OoAm_PS"
      },
      "source": [
        "Load and clean up the dataset. Then assign features and label data seperately."
      ]
    },
    {
      "cell_type": "markdown",
      "metadata": {
        "id": "J-ntiBK9hAyV"
      },
      "source": [
        "#Support Vector Classifier"
      ]
    },
    {
      "cell_type": "code",
      "metadata": {
        "id": "SvxFXhYo_6Cu"
      },
      "source": [
        "def classification_check(data, label):\n",
        "    \n",
        "    from sklearn.model_selection import train_test_split\n",
        "    Xtrain, Xtest, ytrain, ytest = train_test_split(data, label)\n",
        "\n",
        "    from sklearn.svm import SVC # \"Support vector classifier\"\n",
        "    model = SVC(kernel='linear')\n",
        "    model.fit(Xtrain,ytrain)\n",
        "    np.set_printoptions(precision=4)\n",
        "    ypred = model.predict(Xtest)\n",
        "    \n",
        "    from sklearn.metrics import plot_confusion_matrix\n",
        "    \n",
        "    title = \"Confusion matrix\"\n",
        "    \n",
        "    disp = plot_confusion_matrix(model, Xtest, ytest,display_labels=labels,cmap=plt.cm.Blues)\n",
        "    disp.ax_.set_title(title)\n",
        "\n",
        "    print(title)\n",
        "    print(disp.confusion_matrix)\n",
        "    \n",
        "    return;\n"
      ],
      "execution_count": null,
      "outputs": []
    },
    {
      "cell_type": "markdown",
      "metadata": {
        "id": "CpNpxuFgeGoB"
      },
      "source": [
        "We borrowed a function from E221 and tweaked it slightly so it can make it easier to get SVC model."
      ]
    },
    {
      "cell_type": "code",
      "metadata": {
        "colab": {
          "base_uri": "https://localhost:8080/",
          "height": 397
        },
        "id": "r-PWnOQaMU4h",
        "outputId": "745071a9-7cab-4fc5-a842-d5b243b03646"
      },
      "source": [
        "from sklearn.manifold import TSNE\n",
        "tsne3 = TSNE(n_components=3,learning_rate=100,perplexity = 30,early_exaggeration = 12,init = 'random',  method='exact' , random_state=2020)\n",
        "X_tsne3 = tsne3.fit_transform(data)\n",
        "print (\"TSNE 3 dimensions kl_divergence\",tsne3.kl_divergence_ );\n",
        "\n",
        "tsne2 = TSNE(n_components=2,learning_rate=100,perplexity = 30,early_exaggeration = 12,init = 'random',  method='exact' , random_state=2020)\n",
        "X_tsne2 = tsne2.fit_transform(data)\n",
        "print (\"TSNE 2 dimensions kl_divergence\",tsne2.kl_divergence_ ,\"The Best One\");\n",
        "\n",
        "tsne1 = TSNE(n_components=1,learning_rate=100,perplexity = 30,early_exaggeration = 12,init = 'random',  method='exact' , random_state=2020)\n",
        "X_tsne1 = tsne1.fit_transform(data)\n",
        "print (\"TSNE 1 dimension kl_divergence\",tsne1.kl_divergence_ );\n",
        "\n",
        "classification_check(X_tsne2,label.ravel())"
      ],
      "execution_count": null,
      "outputs": [
        {
          "output_type": "stream",
          "text": [
            "TSNE 3 dimensions kl_divergence 0.3401311592175338\n",
            "TSNE 2 dimensions kl_divergence 0.12910887027799595 The Best One\n",
            "TSNE 1 dimension kl_divergence 0.1739051252894368\n",
            "Confusion matrix\n",
            "[[50  0]\n",
            " [25  0]]\n"
          ],
          "name": "stdout"
        },
        {
          "output_type": "display_data",
          "data": {
            "image/png": "[encoded data removed]",
            "text/plain": [
              "<Figure size 432x288 with 2 Axes>"
            ]
          },
          "metadata": {
            "tags": [],
            "needs_background": "light"
          }
        }
      ]
    },
    {
      "cell_type": "markdown",
      "metadata": {
        "id": "Dzj2kGsmek4S"
      },
      "source": [
        "We used TSNE to reduce dimensions of dataset and we wrote best 3 TSNE examples above becuase they have low KL divergence (basically the closer it is to zero, the accuracy will be better). We used TSNE 2 dimensions in SVC model because it had the lowest KL divergence between the three. However, when we put our predictions against the real numbers in a confusion matrix, most of our predictions indicate that all of the patients will die even that's not true because it got 27 False Positives which means they predicted those 27 patients will die but they are alive. This doesn't look very well and we can assume this algorithm is not suitable for this dataset."
      ]
    },
    {
      "cell_type": "markdown",
      "metadata": {
        "id": "NiBbTFnphGK9"
      },
      "source": [
        "#Decision Tree"
      ]
    },
    {
      "cell_type": "code",
      "metadata": {
        "colab": {
          "base_uri": "https://localhost:8080/",
          "height": 248
        },
        "id": "PuWbPGl0WZ3m",
        "outputId": "f6327f7a-25de-40f4-83a8-a8dc9c0a6992"
      },
      "source": [
        "from sklearn import tree\n",
        "from sklearn.tree import DecisionTreeClassifier\n",
        "np.random.seed(4)\n",
        "my_tree = DecisionTreeClassifier(max_depth = 4, max_leaf_nodes=12)\n",
        "Xtrain, Xtest, ytrain, ytest = train_test_split(data, label.ravel())\n",
        "fig = my_tree.fit(Xtrain,ytrain.ravel())\n",
        "tree.plot_tree(fig)\n",
        "fig1 = tree.plot_tree(fig)\n",
        "\n",
        "\n",
        "plt.savefig('Tree.pdf')"
      ],
      "execution_count": null,
      "outputs": [
        {
          "output_type": "display_data",
          "data": {
            "image/png": "[encoded data removed]",
            "text/plain": [
              "<Figure size 432x288 with 1 Axes>"
            ]
          },
          "metadata": {
            "tags": [],
            "needs_background": "light"
          }
        }
      ]
    },
    {
      "cell_type": "code",
      "metadata": {
        "colab": {
          "base_uri": "https://localhost:8080/"
        },
        "id": "Xzkd5DKLXm_l",
        "outputId": "132922f4-a883-4cf0-a060-fcc52504d01e"
      },
      "source": [
        "ypred = my_tree.predict( Xtest ); \n",
        "\n",
        "from sklearn.metrics import r2_score \n",
        "\n",
        "r2_score = r2_score( ytest , ypred )\n",
        "print(\"R2 Score = \", r2_score)"
      ],
      "execution_count": null,
      "outputs": [
        {
          "output_type": "stream",
          "text": [
            "R2 Score =  -0.4423076923076925\n"
          ],
          "name": "stdout"
        }
      ]
    },
    {
      "cell_type": "markdown",
      "metadata": {
        "id": "TydxJFf_hTDd"
      },
      "source": [
        "Decision tree (DT) have been tested multiple times and we think the parameters that we chose for DT are good for this dataset. It helped us indentify the most impacting features (which we will use later) which are: \n",
        "Age(0), Creatinine Phosphokinase(2), Ejection Fraction(4), Serum Creatinine(7), Serum Sodium(8) and Sex(9).\n",
        "Then we used R2 score to test it. If the score was near 1, it means that data fits well in the model while 0 is the opposite. What we got from R2 score is a negative number which means that the model is really bad and mostly likely it's a wrong form of model to fit. So we recommend to not use this for the dataset."
      ]
    },
    {
      "cell_type": "markdown",
      "metadata": {
        "id": "GAy33JHlkKQ5"
      },
      "source": [
        "#Support Vector Machine (Linear) and Logistic Regression"
      ]
    },
    {
      "cell_type": "code",
      "metadata": {
        "id": "y4CzNilSRZFh"
      },
      "source": [
        "def assess_Boolean_model( model , test_data, truth_values ):\n",
        "    TP = 0; FP = 0; \n",
        "    TN = 0; FN = 0; \n",
        "    for n in range( 0, len(truth_values) ) : \n",
        "        sample = test_data[n,:]; \n",
        "        if sample.shape[0] == 1:    # sklearn wants a 2D matrix here \n",
        "            sample = sample.reshape(-1,1);\n",
        "        if len( sample.shape ) == 1: # sklearn wants a 2D matrix here \n",
        "            sample = sample.reshape(1,-1);\n",
        "        model_prediction = model.predict( sample ); \n",
        "        if   model_prediction == truth_values[n] and model_prediction == True: \n",
        "            TP += 1; \n",
        "        if   model_prediction == truth_values[n] and model_prediction == False: \n",
        "            TN += 1; \n",
        "        if   model_prediction != truth_values[n] and model_prediction == True: \n",
        "            FP += 1; \n",
        "        if   model_prediction != truth_values[n] and model_prediction == False: \n",
        "            FN += 1; \n",
        "    return TP, TN, FP, FN;\n",
        "\n",
        "\n",
        "def model_performance(TP, TN, FP, FN):\n",
        "    accuracy = (TP+TN) / (TP + FN + TN + FN)\n",
        "    precision = (TP/ (TP + FP))\n",
        "    sensitivity = TP / (TP + FN)\n",
        "    f1 = (2*TP)/(2*TP + FP + FN)\n",
        "    \n",
        "    return accuracy, precision, sensitivity, f1\n",
        "\n",
        "\n"
      ],
      "execution_count": null,
      "outputs": []
    },
    {
      "cell_type": "markdown",
      "metadata": {
        "id": "p8cmwFeUkPu0"
      },
      "source": [
        "We borrowed 2 functions from E221 Lab notes, one for getting values (predictions [TP, TN, FP, FN]) for confusion matrix and the other function is to use those predictions to check if the model performs well."
      ]
    },
    {
      "cell_type": "markdown",
      "metadata": {
        "id": "RXKI4sjskz-k"
      },
      "source": [
        "###Support Vector Machine (Linear)"
      ]
    },
    {
      "cell_type": "markdown",
      "metadata": {
        "id": "usuYeWa0FUgC"
      },
      "source": [
        "Plotting ROC curve codes ware retrieved from E221 and were modified and it's true for the rest of ROC curves that are used later for Logistic Regression."
      ]
    },
    {
      "cell_type": "code",
      "metadata": {
        "colab": {
          "base_uri": "https://localhost:8080/",
          "height": 346
        },
        "id": "McC6jgDTUbQM",
        "outputId": "83bca499-a86a-4413-aeec-4e21bfc5b102"
      },
      "source": [
        "# SVM fitting \n",
        "from sklearn.metrics import *\n",
        "from sklearn import svm\n",
        "svm_model = svm.LinearSVC(max_iter=100)\n",
        "np.random.seed(2);\n",
        "svm_model.fit( Xtrain , ytrain.ravel() ); \n",
        "\n",
        "[TP,TN,FP,FN] = assess_Boolean_model(svm_model, Xtest,ytest)\n",
        "\n",
        "print(\"True Positive= \",TP, \n",
        "      \",True Negative= \",TN, \n",
        "      \",False Positive= \",FP,\n",
        "      \",False Negative= \", FN)\n",
        "\n",
        "# ROC curve \n",
        "Scores_Testing = svm_model.decision_function( Xtest );\n",
        "fpr, tpr , thresholds = roc_curve( ytest, Scores_Testing ) \n",
        "roc_auc = auc( fpr, tpr ) \n",
        "\n",
        "plt.figure(1)\n",
        "lw = 2\n",
        "plt.plot(fpr, tpr, color='darkorange', lw=lw, label='ROC curve (area = %0.2f)' % roc_auc)\n",
        "plt.plot([0, 1], [0, 1], color='navy', lw=lw, linestyle='--')\n",
        "plt.xlim([0.0, 1.0])\n",
        "plt.ylim([0.0, 1.05])\n",
        "plt.xlabel('False Positive Rate')\n",
        "plt.ylabel('True Positive Rate')\n",
        "plt.title('ROC – Dead Or Alive Classifier (SVM)')\n",
        "plt.legend(loc=\"lower right\")\n",
        "plt.savefig( 'ROC All features (Linear).png' , dpi=900 )\n",
        "plt.show()\n"
      ],
      "execution_count": null,
      "outputs": [
        {
          "output_type": "stream",
          "text": [
            "/usr/local/lib/python3.7/dist-packages/sklearn/svm/_base.py:947: ConvergenceWarning: Liblinear failed to converge, increase the number of iterations.\n",
            "  \"the number of iterations.\", ConvergenceWarning)\n"
          ],
          "name": "stderr"
        },
        {
          "output_type": "stream",
          "text": [
            "True Positive=  23 ,True Negative=  0 ,False Positive=  52 ,False Negative=  0\n"
          ],
          "name": "stdout"
        },
        {
          "output_type": "display_data",
          "data": {
            "image/png": "[encoded data removed]",
            "text/plain": [
              "<Figure size 432x288 with 1 Axes>"
            ]
          },
          "metadata": {
            "tags": [],
            "needs_background": "light"
          }
        }
      ]
    },
    {
      "cell_type": "code",
      "metadata": {
        "colab": {
          "base_uri": "https://localhost:8080/",
          "height": 346
        },
        "id": "7GD20nKIYLHt",
        "outputId": "60de4e05-2a3b-4d71-a668-a09b93c95222"
      },
      "source": [
        "# SVM fitting \n",
        "from sklearn.metrics import *\n",
        "from sklearn import svm\n",
        "svm_model = svm.LinearSVC()\n",
        "np.random.seed(2);\n",
        "svm_model.fit( Xtrain[:,(0,2,4,7,8,9)] , ytrain.ravel() ); \n",
        "#Xtrain[:,(0,2,4,7,8,9)]\n",
        "[TP,TN,FP,FN] = assess_Boolean_model(svm_model, Xtest[:,(0,2,4,7,8,9)],ytest)\n",
        "\n",
        "print(\"True Positive= \",TP, \n",
        "      \",True Negative= \",TN, \n",
        "      \",False Positive= \",FP,\n",
        "      \",False Negative= \", FN)\n",
        "# ROC curve \n",
        "Scores_Testing = svm_model.decision_function( Xtest[:,(0,2,4,7,8,9)] );\n",
        "fpr, tpr , thresholds = roc_curve( ytest, Scores_Testing ) \n",
        "roc_auc = auc( fpr, tpr ) \n",
        "\n",
        "plt.figure(2)\n",
        "lw = 2\n",
        "plt.plot(fpr, tpr, color='darkorange', lw=lw, label='ROC curve (area = %0.2f)' % roc_auc)\n",
        "plt.plot([0, 1], [0, 1], color='navy', lw=lw, linestyle='--')\n",
        "plt.xlim([0.0, 1.0])\n",
        "plt.ylim([0.0, 1.05])\n",
        "plt.xlabel('False Positive Rate')\n",
        "plt.ylabel('True Positive Rate')\n",
        "plt.title('ROC – Dead Or Alive Classifier (SVM)')\n",
        "plt.legend(loc=\"lower right\")\n",
        "plt.savefig( 'ROC Important features (Linear).png' , dpi=900 )\n",
        "plt.show()"
      ],
      "execution_count": null,
      "outputs": [
        {
          "output_type": "stream",
          "text": [
            "/usr/local/lib/python3.7/dist-packages/sklearn/svm/_base.py:947: ConvergenceWarning: Liblinear failed to converge, increase the number of iterations.\n",
            "  \"the number of iterations.\", ConvergenceWarning)\n"
          ],
          "name": "stderr"
        },
        {
          "output_type": "stream",
          "text": [
            "True Positive=  21 ,True Negative=  24 ,False Positive=  28 ,False Negative=  2\n"
          ],
          "name": "stdout"
        },
        {
          "output_type": "display_data",
          "data": {
            "image/png": "[encoded data removed]",
            "text/plain": [
              "<Figure size 432x288 with 1 Axes>"
            ]
          },
          "metadata": {
            "tags": [],
            "needs_background": "light"
          }
        }
      ]
    },
    {
      "cell_type": "markdown",
      "metadata": {
        "id": "EWcZbVdLmmxY"
      },
      "source": [
        "We plotted 2 examples of Receiver Operator Characteristic (ROC) curve (First one with all features and the others with the important features (data[:,(0,2,4,7,8,9)]). Roc curve help us visualize trade off between sensitivity and precision. The ideal curve is to have area under 1.0. Comparing between the two graphs, the graph with important features have better score than all features. We conclude that there are unnecessary features that hinders with the model. area = 0.64 isn't that bad but it can be better by using the following algorithm."
      ]
    },
    {
      "cell_type": "markdown",
      "metadata": {
        "id": "M4Vr9HcMobKw"
      },
      "source": [
        "#Logistic Regression\n"
      ]
    },
    {
      "cell_type": "code",
      "metadata": {
        "colab": {
          "base_uri": "https://localhost:8080/",
          "height": 329
        },
        "id": "NsRmi30nROYs",
        "outputId": "a4c82d54-f5e8-45fc-af14-66ddc4d7d696"
      },
      "source": [
        "from sklearn.linear_model import LogisticRegression\n",
        "Xtrain, Xtest, ytrain, ytest = train_test_split(data, label.ravel())\n",
        "\n",
        "logistic_reg_model = LogisticRegression(random_state = 0,max_iter=100).fit(Xtrain, ytrain)\n",
        "\n",
        "[TP,TN,FP,FN] = assess_Boolean_model(logistic_reg_model, Xtest,ytest)\n",
        "\n",
        "print(\"True Positive= \",TP, \n",
        "      \",True Negative= \",TN, \n",
        "      \",False Positive= \",FP,\n",
        "      \",False Negative= \", FN)\n",
        "\n",
        "\n",
        "accuracy, precision, sensitivity, f1 = model_performance(TP,TN,FP,FN)\n",
        "print(\"accuracy= \",accuracy, \n",
        "      \",precision= \",precision, \n",
        "      \",sensitivity= \",sensitivity,\n",
        "      \",f1= \", f1)\n",
        "\n",
        "\n",
        "np.random.seed(2);\n",
        "\n",
        "logistic_reg_model.fit( Xtrain , ytrain.ravel() ); \n",
        "\n",
        "\n",
        "# ROC curve \n",
        "from sklearn.metrics import *\n",
        "Scores_Testing = logistic_reg_model.decision_function( Xtest );\n",
        "fpr, tpr , thresholds = roc_curve( ytest, Scores_Testing ) \n",
        "roc_auc = auc( fpr, tpr ) \n",
        "\n",
        "plt.figure(1)\n",
        "lw = 2\n",
        "plt.plot(fpr, tpr, color='darkorange', lw=lw, label='ROC curve (area = %0.2f)' % roc_auc)\n",
        "plt.plot([0, 1], [0, 1], color='navy', lw=lw, linestyle='--')\n",
        "plt.xlim([0.0, 1.0])\n",
        "plt.ylim([0.0, 1.05])\n",
        "plt.xlabel('False Positive Rate')\n",
        "plt.ylabel('True Positive Rate')\n",
        "plt.title('ROC – Dead Or Alive Classifier (Logistic)')\n",
        "plt.legend(loc=\"lower right\")\n",
        "plt.savefig( 'ROC All features (Logistic).png' , dpi=900 )\n",
        "plt.show()"
      ],
      "execution_count": null,
      "outputs": [
        {
          "output_type": "stream",
          "text": [
            "True Positive=  8 ,True Negative=  46 ,False Positive=  4 ,False Negative=  17\n",
            "accuracy=  0.6136363636363636 ,precision=  0.6666666666666666 ,sensitivity=  0.32 ,f1=  0.43243243243243246\n"
          ],
          "name": "stdout"
        },
        {
          "output_type": "display_data",
          "data": {
            "image/png": "[encoded data removed]",
            "text/plain": [
              "<Figure size 432x288 with 1 Axes>"
            ]
          },
          "metadata": {
            "tags": [],
            "needs_background": "light"
          }
        }
      ]
    },
    {
      "cell_type": "code",
      "metadata": {
        "colab": {
          "base_uri": "https://localhost:8080/",
          "height": 329
        },
        "id": "LfKE1WP6KLMM",
        "outputId": "10bacfbc-411d-4592-c071-57de4475a239"
      },
      "source": [
        "np.random.seed(3);\n",
        "logistic_reg_model.fit( Xtrain[:,(0,2,4,7,8,9)] , ytrain.ravel() ); \n",
        "#Xtrain[:,(0,2,4,7,8,9)]\n",
        "[TP,TN,FP,FN] = assess_Boolean_model(logistic_reg_model, Xtest[:,(0,2,4,7,8,9)],ytest.ravel())\n",
        "\n",
        "print(\"True Positive= \",TP, \n",
        "      \",True Negative= \",TN, \n",
        "      \",False Positive= \",FP,\n",
        "      \",False Negative= \", FN)\n",
        "\n",
        "\n",
        "accuracy, precision, sensitivity, f1 = model_performance(TP,TN,FP,FN)\n",
        "print(\"accuracy= \",accuracy, \n",
        "      \",precision= \",precision, \n",
        "      \",sensitivity= \",sensitivity,\n",
        "      \",f1= \", f1)\n",
        "\n",
        "# ROC curve \n",
        "Scores_Testing = logistic_reg_model.decision_function( Xtest[:,(0,2,4,7,8,9)] );\n",
        "fpr, tpr , thresholds = roc_curve( ytest, Scores_Testing ) \n",
        "roc_auc = auc( fpr, tpr ) \n",
        "\n",
        "plt.figure(0)\n",
        "lw = 2\n",
        "plt.plot(fpr, tpr, color='darkorange', lw=lw, label='ROC curve (area = %0.2f)' % roc_auc)\n",
        "plt.plot([0, 1], [0, 1], color='navy', lw=lw, linestyle='--')\n",
        "plt.xlim([0.0, 1.0])\n",
        "plt.ylim([0.0, 1.05])\n",
        "plt.xlabel('False Positive Rate')\n",
        "plt.ylabel('True Positive Rate')\n",
        "plt.title('ROC – Dead Or Alive Classifier (Logistic)')\n",
        "plt.legend(loc=\"lower right\")\n",
        "plt.savefig( 'ROC Important features (Logistic).png' , dpi=900 )\n",
        "plt.show()"
      ],
      "execution_count": null,
      "outputs": [
        {
          "output_type": "stream",
          "text": [
            "True Positive=  11 ,True Negative=  44 ,False Positive=  6 ,False Negative=  14\n",
            "accuracy=  0.6626506024096386 ,precision=  0.6470588235294118 ,sensitivity=  0.44 ,f1=  0.5238095238095238\n"
          ],
          "name": "stdout"
        },
        {
          "output_type": "display_data",
          "data": {
            "image/png": "[encoded data removed]",
            "text/plain": [
              "<Figure size 432x288 with 1 Axes>"
            ]
          },
          "metadata": {
            "tags": [],
            "needs_background": "light"
          }
        }
      ]
    },
    {
      "cell_type": "markdown",
      "metadata": {
        "id": "gCxRPsSNqP7u"
      },
      "source": [
        "We did the excat same process as before in SVM but this time we did it in a logistic regression model and it have us better result than before. Once again, the ROC curve graph of important features (area =0.80) is higher than all features (area = 0.71) because we only used useful features that help us to predict better when there will be a heart failure or not."
      ]
    },
    {
      "cell_type": "markdown",
      "metadata": {
        "id": "d0Smq-RGrbYe"
      },
      "source": [
        "#Conclusion\n",
        "I think the best algorithm that was tested for this dataset is Logistic Regression as it gave us better predictions than other Machine Learning methods."
      ]
    },
    {
      "cell_type": "markdown",
      "metadata": {
        "id": "6ecdorna-yom"
      },
      "source": [
        "###Citation\n",
        "1. Predicting Heart Failures. The original dataset version was collected by Tanvir Ahmad et al. (Government College University, Faisalabad, Pakistan) and made available by them on FigShare under the Attribution 4.0 International (CC BY 4.0: freedom to share and adapt the material) copyright July 2017.  The current version of the dataset was elaborated by Davide Chicco (Krembil Research Institute, Toronto, Canada) and donated to the University of California Irvine Machine Learning Repository under the same Attribution 4.0 International (CC BY 4.0) copyright in January 2020. A copy of the dataset can be found on the Kaggle site here:https://www.kaggle.com/andrewmvd/heart-failure-clinical-data\n",
        "2. Some functions and codes were retrieved from E221 lecture and lab notes. (I commented for which one)"
      ]
    },
    {
      "cell_type": "code",
      "metadata": {
        "id": "q99g7A-a-3I6",
        "colab": {
          "base_uri": "https://localhost:8080/"
        },
        "outputId": "e95d216c-c10b-4b15-934a-0939920aa603"
      },
      "source": [
        "import sklearn\n",
        "import pandas as pd \n",
        "import numpy as np\n",
        "missing_value=[\"Undefined\"]\n",
        "data = pd.read_csv(\"heart_failure_clinical_records_dataset.csv\", na_values=missing_value) \n",
        "data.head()\n",
        "\n",
        "np.sum(data.isnull())\n",
        "\n",
        "# Here we are using the 12 features to predict the liklihood of a death event. \n",
        "\n",
        "Y = data['DEATH_EVENT']\n",
        "Y = Y[1:]\n",
        "#X = data.drop(['anaemia','platelets','smoking','time','DEATH_EVENT'], axis=1)\n",
        "X = data.drop(['DEATH_EVENT'], axis=1)\n",
        "X = X[1:]\n",
        "\n",
        "print(X.shape, Y.shape)\n",
        "\n",
        "\n"
      ],
      "execution_count": 64,
      "outputs": [
        {
          "output_type": "stream",
          "text": [
            "(298, 12) (298,)\n"
          ],
          "name": "stdout"
        }
      ]
    },
    {
      "cell_type": "code",
      "metadata": {
        "colab": {
          "base_uri": "https://localhost:8080/"
        },
        "id": "lGdfAx-xsCIw",
        "outputId": "cffbb7b6-7484-4dc1-e136-1d0bfb86e9eb"
      },
      "source": [
        "# Now we need to look at Y\n",
        "# 70/30\n",
        "\n",
        "from collections import Counter\n",
        "\n",
        "original_counts = Counter(Y)\n",
        "print(original_counts)\n",
        "\n",
        "\n",
        "# now lets balance the data\n",
        "from imblearn.over_sampling import SMOTE\n",
        "over = SMOTE()\n",
        "X_new, Y_new = over.fit_resample(X,Y)\n",
        "new_counts = Counter(Y_new)\n",
        "print(new_counts)\n",
        "\n",
        "# The deprication warning should be resolved. https://github.com/skorch-dev/skorch/issues/612\n"
      ],
      "execution_count": 65,
      "outputs": [
        {
          "output_type": "stream",
          "text": [
            "Counter({0: 203, 1: 95})\n",
            "Counter({1: 203, 0: 203})\n"
          ],
          "name": "stdout"
        },
        {
          "output_type": "stream",
          "text": [
            "/usr/local/lib/python3.7/dist-packages/sklearn/utils/deprecation.py:87: FutureWarning: Function safe_indexing is deprecated; safe_indexing is deprecated in version 0.22 and will be removed in version 0.24.\n",
            "  warnings.warn(msg, category=FutureWarning)\n"
          ],
          "name": "stderr"
        }
      ]
    },
    {
      "cell_type": "code",
      "metadata": {
        "colab": {
          "base_uri": "https://localhost:8080/"
        },
        "id": "C0ganmIwtkA1",
        "outputId": "af7a4421-cc16-44bb-9452-b0dfd0590ae6"
      },
      "source": [
        "import numpy as np\n",
        "import matplotlib.pyplot as plt\n",
        "import pandas as pd\n",
        "\n",
        "from sklearn.decomposition import PCA\n",
        "from sklearn.linear_model import LogisticRegression\n",
        "from sklearn.pipeline import Pipeline\n",
        "from sklearn.model_selection import GridSearchCV\n",
        "\n",
        "# Define a pipeline to search for the best combination of PCA truncation\n",
        "# and classifier regularization with out the use of SMOTE.\n",
        "\n",
        "from sklearn.model_selection import train_test_split\n",
        "\n",
        "x_train, x_test, y_train, y_test = train_test_split(X_new, Y_new, test_size=0.2, random_state=0)\n",
        "\n",
        "pca = PCA()\n",
        "\n",
        "logistic = LogisticRegression(max_iter=100000, tol=0.1)\n",
        "\n",
        "pipe = Pipeline(steps=[('pca', pca), ('logistic', logistic)])\n",
        "\n",
        "# This grid search is exhaustive and time consuming. \n",
        "\n",
        "# Parameters of pipelines can be set using ‘__’ separated parameter names:\n",
        "param_grid = {\n",
        "    'pca__n_components': [2, 4, 8, 10, 12],\n",
        "    'logistic__C': np.logspace(-4, 4, 6),\n",
        "}\n",
        "search = GridSearchCV(pipe, param_grid, n_jobs=-1)\n",
        "search.fit(x_train, y_train)\n",
        "print(\"Best parameter (CV score=%0.3f):\" % search.best_score_)\n",
        "print(search.best_params_)"
      ],
      "execution_count": 66,
      "outputs": [
        {
          "output_type": "stream",
          "text": [
            "Best parameter (CV score=0.787):\n",
            "{'logistic__C': 10000.0, 'pca__n_components': 8}\n"
          ],
          "name": "stdout"
        }
      ]
    },
    {
      "cell_type": "code",
      "metadata": {
        "colab": {
          "base_uri": "https://localhost:8080/"
        },
        "id": "9C61PvWktqTN",
        "outputId": "0cd4f7e7-88b2-4ead-ae6e-74857331eb42"
      },
      "source": [
        "search.best_params_\n",
        "np.logspace(-4,4,6)"
      ],
      "execution_count": 67,
      "outputs": [
        {
          "output_type": "execute_result",
          "data": {
            "text/plain": [
              "array([1.00000000e-04, 3.98107171e-03, 1.58489319e-01, 6.30957344e+00,\n",
              "       2.51188643e+02, 1.00000000e+04])"
            ]
          },
          "metadata": {
            "tags": []
          },
          "execution_count": 67
        }
      ]
    },
    {
      "cell_type": "code",
      "metadata": {
        "colab": {
          "base_uri": "https://localhost:8080/",
          "height": 441
        },
        "id": "gJf9-14ntwMN",
        "outputId": "fdc9a0d7-5ef0-43bf-ba2b-78c5e6fa9e0d"
      },
      "source": [
        "# Visulaize the PCA\n",
        "# This section is about using PCA to find the optimal combination of features\n",
        "# https://scikit-learn.org/stable/auto_examples/compose/plot_digits_pipe.html\n",
        "\n",
        "pca.fit(x_train)\n",
        "\n",
        "fig, (ax0, ax1) = plt.subplots(nrows=2, sharex=True, figsize=(6, 6))\n",
        "ax0.plot(np.arange(1, pca.n_components_ + 1),\n",
        "         pca.explained_variance_ratio_, '+', linewidth=2)\n",
        "ax0.set_ylabel('PCA explained variance ratio')\n",
        "\n",
        "ax0.axvline(search.best_estimator_.named_steps['pca'].n_components,\n",
        "            linestyle=':', label='n_components chosen')\n",
        "ax0.legend(prop=dict(size=12))\n",
        "\n",
        "results = pd.DataFrame(search.cv_results_)\n",
        "components_col = 'param_pca__n_components'\n",
        "best_clfs = results.groupby(components_col).apply(\n",
        "    lambda g: g.nlargest(1, 'mean_test_score'))\n",
        "\n",
        "best_clfs.plot(x=components_col, y='mean_test_score', yerr='std_test_score',\n",
        "               legend=False, ax=ax1)\n",
        "ax1.set_ylabel('Classification accuracy (val)')\n",
        "ax1.set_xlabel('n_components')\n",
        "\n",
        "plt.xlim(-1, 70)\n",
        "\n",
        "plt.tight_layout()"
      ],
      "execution_count": 68,
      "outputs": [
        {
          "output_type": "display_data",
          "data": {
            "image/png": "[encoded data removed]",
            "text/plain": [
              "<Figure size 432x432 with 2 Axes>"
            ]
          },
          "metadata": {
            "tags": [],
            "needs_background": "light"
          }
        }
      ]
    },
    {
      "cell_type": "code",
      "metadata": {
        "id": "SDOXwnTct1D9"
      },
      "source": [
        "import imblearn\n",
        "from imblearn.over_sampling import SMOTE\n",
        "from sklearn.preprocessing import StandardScaler\n",
        "from sklearn.pipeline import make_pipeline\n",
        "from sklearn.decomposition import PCA\n",
        "from sklearn.linear_model import LogisticRegression\n",
        "from sklearn.pipeline import Pipeline\n",
        "from sklearn.model_selection import train_test_split\n",
        "\n",
        "x_train, x_test, y_train, y_test = train_test_split(X_new, Y_new, test_size=0.2, random_state=0)\n",
        "\n",
        "pca = PCA(n_components=12)\n",
        "stdscl = StandardScaler()\n",
        "logistic = LogisticRegression(C = 0.15848931924611143, max_iter=100000, tol=0.1)\n",
        "\n",
        "\n",
        "pipe = Pipeline(steps=[('standardscalar', stdscl),('pca', pca), ('logistic', logistic)])"
      ],
      "execution_count": 69,
      "outputs": []
    },
    {
      "cell_type": "code",
      "metadata": {
        "colab": {
          "base_uri": "https://localhost:8080/"
        },
        "id": "DjXP1iLlt7D9",
        "outputId": "14dffccf-361a-43d0-ef6e-88e1f3cabd12"
      },
      "source": [
        "my_mdl = pipe.fit(x_train, y_train)\n",
        "my_mdl.score(x_test,y_test)"
      ],
      "execution_count": 70,
      "outputs": [
        {
          "output_type": "execute_result",
          "data": {
            "text/plain": [
              "0.8780487804878049"
            ]
          },
          "metadata": {
            "tags": []
          },
          "execution_count": 70
        }
      ]
    },
    {
      "cell_type": "code",
      "metadata": {
        "id": "RsLj7C2huJ-0",
        "colab": {
          "base_uri": "https://localhost:8080/"
        },
        "outputId": "9a14462f-a782-4868-c46b-06488ec926ee"
      },
      "source": [
        "my_prediction = my_mdl.predict(x_test)\n",
        "print(my_prediction)"
      ],
      "execution_count": 71,
      "outputs": [
        {
          "output_type": "stream",
          "text": [
            "[0 0 1 0 1 1 0 0 1 1 1 1 1 1 1 0 1 0 1 0 0 0 0 1 0 0 1 0 1 1 0 1 1 1 1 0 0\n",
            " 1 0 1 1 1 1 0 0 1 1 1 1 1 0 0 0 0 0 0 0 1 1 1 1 1 1 0 0 1 0 1 1 0 1 1 0 1\n",
            " 1 0 1 1 0 1 0 0]\n"
          ],
          "name": "stdout"
        }
      ]
    },
    {
      "cell_type": "code",
      "metadata": {
        "colab": {
          "base_uri": "https://localhost:8080/"
        },
        "id": "4sY5LcaVuddU",
        "outputId": "cd3b69c9-1ce1-43c9-f7b9-6db9b25cbd11"
      },
      "source": [
        "from sklearn.metrics import classification_report\n",
        "print(classification_report(y_test, my_prediction, target_names=['0', '1']))"
      ],
      "execution_count": 72,
      "outputs": [
        {
          "output_type": "stream",
          "text": [
            "              precision    recall  f1-score   support\n",
            "\n",
            "           0       0.89      0.84      0.86        38\n",
            "           1       0.87      0.91      0.89        44\n",
            "\n",
            "    accuracy                           0.88        82\n",
            "   macro avg       0.88      0.88      0.88        82\n",
            "weighted avg       0.88      0.88      0.88        82\n",
            "\n"
          ],
          "name": "stdout"
        }
      ]
    },
    {
      "cell_type": "code",
      "metadata": {
        "colab": {
          "base_uri": "https://localhost:8080/"
        },
        "id": "DUKJhpWpugm8",
        "outputId": "f0c40c40-f4d5-4fbf-f89c-fe52cfdd3e52"
      },
      "source": [
        "from sklearn.metrics import confusion_matrix\n",
        "conf = confusion_matrix(y_test, my_prediction)\n",
        "conf"
      ],
      "execution_count": 73,
      "outputs": [
        {
          "output_type": "execute_result",
          "data": {
            "text/plain": [
              "array([[32,  6],\n",
              "       [ 4, 40]])"
            ]
          },
          "metadata": {
            "tags": []
          },
          "execution_count": 73
        }
      ]
    },
    {
      "cell_type": "code",
      "metadata": {
        "colab": {
          "base_uri": "https://localhost:8080/",
          "height": 295
        },
        "id": "igKJ_vr0ujSc",
        "outputId": "a718a576-77f0-4dc4-a180-f4d39b5bc534"
      },
      "source": [
        "import sklearn.metrics as metrics\n",
        "# calculate the fpr and tpr for all thresholds of the classification\n",
        "probs = pipe.predict_proba(x_test)\n",
        "preds = probs[:,1]\n",
        "fpr, tpr, threshold = metrics.roc_curve(y_test, my_prediction)\n",
        "roc_auc = metrics.auc(fpr, tpr)\n",
        "\n",
        "import matplotlib.pyplot as plt\n",
        "plt.title('Receiver Operating Characteristic')\n",
        "plt.plot(fpr, tpr, 'b', label = 'AUC = %0.2f' % roc_auc)\n",
        "plt.legend(loc = 'lower right')\n",
        "plt.plot([0, 1], [0, 1],'r--')\n",
        "plt.xlim([0, 1])\n",
        "plt.ylim([0, 1])\n",
        "plt.ylabel('True Positive Rate')\n",
        "plt.xlabel('False Positive Rate')\n",
        "plt.show()"
      ],
      "execution_count": 74,
      "outputs": [
        {
          "output_type": "display_data",
          "data": {
            "image/png": "[encoded data removed]",
            "text/plain": [
              "<Figure size 432x288 with 1 Axes>"
            ]
          },
          "metadata": {
            "tags": [],
            "needs_background": "light"
          }
        }
      ]
    },
    {
      "cell_type": "code",
      "metadata": {
        "id": "iVaQTRuGC9cO",
        "colab": {
          "base_uri": "https://localhost:8080/"
        },
        "outputId": "c5dba233-818a-4be0-c1cf-bbe5829b74b7"
      },
      "source": [
        "from sklearn import datasets, svm\n",
        "from sklearn.svm import SVC\n",
        "from sklearn.model_selection import train_test_split\n",
        "from sklearn.pipeline import make_pipeline\n",
        "from sklearn.preprocessing import StandardScaler\n",
        "import numpy as np\n",
        "\n",
        "X_train, X_test, y_train, y_test = train_test_split(X_new, Y_new)\n",
        "\n",
        "class_names = ['Alive','Dead']\n",
        "\n",
        "svm_classifier = make_pipeline(StandardScaler(), SVC(gamma='auto'))\n",
        "my_model = svm_classifier.fit(X_train, y_train)\n",
        "print(sklearn.__version__)\n",
        "print(imblearn.__version__)"
      ],
      "execution_count": 102,
      "outputs": [
        {
          "output_type": "stream",
          "text": [
            "0.22.2.post1\n",
            "0.4.3\n"
          ],
          "name": "stdout"
        }
      ]
    },
    {
      "cell_type": "code",
      "metadata": {
        "colab": {
          "base_uri": "https://localhost:8080/"
        },
        "id": "e84yHT-4DZbk",
        "outputId": "995150bf-5630-4eb9-df6a-4602aeb27374"
      },
      "source": [
        "from joblib import dump, load \n",
        "dump(my_model, 'svc_model.pkl')"
      ],
      "execution_count": 103,
      "outputs": [
        {
          "output_type": "execute_result",
          "data": {
            "text/plain": [
              "['svc_model.pkl']"
            ]
          },
          "metadata": {
            "tags": []
          },
          "execution_count": 103
        }
      ]
    },
    {
      "cell_type": "code",
      "metadata": {
        "id": "Eh_eHtHHECf1"
      },
      "source": [
        "def my_prediction(id):\n",
        "    dummy = np.array(id)\n",
        "    dummyT = dummy.reshape(1,-1)\n",
        "    r = dummy.shape\n",
        "    t = dummyT.shape\n",
        "    r_str = json.dumps(r)\n",
        "    t_str = json.dumps(t)\n",
        "    prediction = my_model.predict(dummyT)\n",
        "    print(prediction)\n",
        "    #name_str = json.dumps(prediction.tolist())\n",
        "    name = class_names[ int(prediction)]\n",
        "    print(name)\n",
        "    string = [t_str, r_str, name]\n",
        "    return string\n"
      ],
      "execution_count": 105,
      "outputs": []
    },
    {
      "cell_type": "code",
      "metadata": {
        "colab": {
          "base_uri": "https://localhost:8080/"
        },
        "id": "dVJIGEEIGgSR",
        "outputId": "07d22522-50ba-46e9-b3e3-5627524ab52e"
      },
      "source": [
        "from sklearn import datasets\n",
        "from joblib import load\n",
        "import numpy as np\n",
        "import json\n",
        "\n",
        "#Load my model\n",
        "\n",
        "my_model = load('svc_model.pkl')\n",
        "\n",
        "my_prediction([75,0,582,0,20,1,265000,1.9,130,1,0,4])"
      ],
      "execution_count": 106,
      "outputs": [
        {
          "output_type": "stream",
          "text": [
            "[1]\n",
            "Dead\n"
          ],
          "name": "stdout"
        },
        {
          "output_type": "execute_result",
          "data": {
            "text/plain": [
              "['[1, 12]', '[12]', 'Dead']"
            ]
          },
          "metadata": {
            "tags": []
          },
          "execution_count": 106
        }
      ]
    },
    {
      "cell_type": "code",
      "metadata": {
        "id": "AaUu9HnmGoQ3"
      },
      "source": [
        ""
      ],
      "execution_count": null,
      "outputs": []
    }
  ]
}